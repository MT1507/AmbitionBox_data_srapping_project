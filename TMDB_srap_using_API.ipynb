{
 "cells": [
  {
   "cell_type": "code",
   "execution_count": null,
   "id": "7ec93e98",
   "metadata": {},
   "outputs": [],
   "source": [
    "import pandas as pd\n",
    "import requests as req\n"
   ]
  },
  {
   "cell_type": "code",
   "execution_count": null,
   "id": "39f4f26b",
   "metadata": {},
   "outputs": [],
   "source": [
    "### for proper output enter your API key in  code line nuber 3"
   ]
  },
  {
   "cell_type": "code",
   "execution_count": null,
   "id": "05670045",
   "metadata": {},
   "outputs": [],
   "source": [
    "l = []\n",
    "for i in range(1,509):\n",
    "    response = req.get('https://api.themoviedb.org/3/movie/top_rated?api_key= enter your key &language=en-US&page={}'.format(i))\n",
    "    for j in response.json()['results']:\n",
    "        l.append(j)"
   ]
  },
  {
   "cell_type": "code",
   "execution_count": null,
   "id": "6b3b459c",
   "metadata": {},
   "outputs": [],
   "source": [
    "df = pd.DataFrame(l)"
   ]
  },
  {
   "cell_type": "code",
   "execution_count": null,
   "id": "a58221b0",
   "metadata": {},
   "outputs": [],
   "source": [
    "df.drop(columns=[\"adult\",\"backdrop_path\",\"genre_ids\",\"poster_path\",\"original_title\",\"video\"],inplace=True)"
   ]
  },
  {
   "cell_type": "code",
   "execution_count": null,
   "id": "37fffb9f",
   "metadata": {},
   "outputs": [],
   "source": [
    "df.to_csv(\"10000_top_rated_movies_27july2022.csv\")"
   ]
  },
  {
   "cell_type": "code",
   "execution_count": null,
   "id": "5ab90e21",
   "metadata": {},
   "outputs": [],
   "source": []
  },
  {
   "cell_type": "code",
   "execution_count": null,
   "id": "58ecac04",
   "metadata": {},
   "outputs": [],
   "source": []
  }
 ],
 "metadata": {
  "kernelspec": {
   "display_name": "Python 3 (ipykernel)",
   "language": "python",
   "name": "python3"
  },
  "language_info": {
   "codemirror_mode": {
    "name": "ipython",
    "version": 3
   },
   "file_extension": ".py",
   "mimetype": "text/x-python",
   "name": "python",
   "nbconvert_exporter": "python",
   "pygments_lexer": "ipython3",
   "version": "3.9.12"
  }
 },
 "nbformat": 4,
 "nbformat_minor": 5
}
